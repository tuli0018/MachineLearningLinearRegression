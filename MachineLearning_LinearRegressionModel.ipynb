{
 "cells": [
  {
   "cell_type": "code",
   "execution_count": 1,
   "metadata": {},
   "outputs": [],
   "source": [
    "import pandas as pd\n",
    "import numpy as np\n",
    "import html5lib\n",
    "%matplotlib inline\n",
    "import matplotlib.pyplot as plt"
   ]
  },
  {
   "cell_type": "code",
   "execution_count": 3,
   "metadata": {},
   "outputs": [],
   "source": [
    "school = pd.read_csv('https://ed-public-download.app.cloud.gov/downloads/Most-Recent-Cohorts-Treasury-Elements.csv')"
   ]
  },
  {
   "cell_type": "code",
   "execution_count": 4,
   "metadata": {},
   "outputs": [
    {
     "data": {
      "text/plain": [
       "Index(['UNITID', 'OPEID', 'OPEID6', 'INSTNM', 'COUNT_ED', 'AGEGE24',\n",
       "       'PCT_WHITE', 'PCT_BLACK', 'PCT_ASIAN', 'PCT_HISPANIC', 'PCT_BA',\n",
       "       'PCT_GRAD_PROF', 'PCT_BORN_US', 'MEDIAN_HH_INC', 'POVERTY_RATE',\n",
       "       'UNEMP_RATE', 'LN_MEDIAN_HH_INC', 'COUNT_NWNE_P10', 'COUNT_WNE_P10',\n",
       "       'MN_EARN_WNE_P10', 'MD_EARN_WNE_P10', 'PCT10_EARN_WNE_P10',\n",
       "       'PCT25_EARN_WNE_P10', 'PCT75_EARN_WNE_P10', 'PCT90_EARN_WNE_P10',\n",
       "       'SD_EARN_WNE_P10', 'COUNT_WNE_INC1_P10', 'COUNT_WNE_INC2_P10',\n",
       "       'COUNT_WNE_INC3_P10', 'COUNT_WNE_INDEP0_INC1_P10',\n",
       "       'COUNT_WNE_INDEP0_P10', 'COUNT_WNE_INDEP1_P10', 'COUNT_WNE_MALE0_P10',\n",
       "       'COUNT_WNE_MALE1_P10', 'GT_25K_P10', 'MN_EARN_WNE_INC1_P10',\n",
       "       'MN_EARN_WNE_INC2_P10', 'MN_EARN_WNE_INC3_P10',\n",
       "       'MN_EARN_WNE_INDEP0_INC1_P10', 'MN_EARN_WNE_INDEP0_P10',\n",
       "       'MN_EARN_WNE_INDEP1_P10', 'MN_EARN_WNE_MALE0_P10',\n",
       "       'MN_EARN_WNE_MALE1_P10', 'COUNT_NWNE_P6', 'COUNT_WNE_P6',\n",
       "       'MN_EARN_WNE_P6', 'MD_EARN_WNE_P6', 'PCT10_EARN_WNE_P6',\n",
       "       'PCT25_EARN_WNE_P6', 'PCT75_EARN_WNE_P6', 'PCT90_EARN_WNE_P6',\n",
       "       'SD_EARN_WNE_P6', 'COUNT_WNE_INC1_P6', 'COUNT_WNE_INC2_P6',\n",
       "       'COUNT_WNE_INC3_P6', 'COUNT_WNE_INDEP0_INC1_P6', 'COUNT_WNE_INDEP0_P6',\n",
       "       'COUNT_WNE_INDEP1_P6', 'COUNT_WNE_MALE0_P6', 'COUNT_WNE_MALE1_P6',\n",
       "       'GT_25K_P6', 'MN_EARN_WNE_INC1_P6', 'MN_EARN_WNE_INC2_P6',\n",
       "       'MN_EARN_WNE_INC3_P6', 'MN_EARN_WNE_INDEP0_INC1_P6',\n",
       "       'MN_EARN_WNE_INDEP0_P6', 'MN_EARN_WNE_INDEP1_P6',\n",
       "       'MN_EARN_WNE_MALE0_P6', 'MN_EARN_WNE_MALE1_P6', 'COUNT_NWNE_P7',\n",
       "       'COUNT_WNE_P7', 'MN_EARN_WNE_P7', 'SD_EARN_WNE_P7', 'GT_25K_P7',\n",
       "       'COUNT_NWNE_P8', 'COUNT_WNE_P8', 'MN_EARN_WNE_P8', 'MD_EARN_WNE_P8',\n",
       "       'PCT10_EARN_WNE_P8', 'PCT25_EARN_WNE_P8', 'PCT75_EARN_WNE_P8',\n",
       "       'PCT90_EARN_WNE_P8', 'SD_EARN_WNE_P8', 'GT_25K_P8', 'COUNT_NWNE_P9',\n",
       "       'COUNT_WNE_P9', 'MN_EARN_WNE_P9', 'SD_EARN_WNE_P9', 'GT_25K_P9',\n",
       "       'GT_28K_P10', 'GT_28K_P8', 'GT_28K_P6'],\n",
       "      dtype='object')"
      ]
     },
     "execution_count": 4,
     "metadata": {},
     "output_type": "execute_result"
    }
   ],
   "source": [
    "school.columns"
   ]
  },
  {
   "cell_type": "code",
   "execution_count": 6,
   "metadata": {},
   "outputs": [
    {
     "data": {
      "text/plain": [
       "UNITID            16\n",
       "OPEID             16\n",
       "OPEID6            16\n",
       "INSTNM            16\n",
       "COUNT_ED           0\n",
       "                  ..\n",
       "SD_EARN_WNE_P9    15\n",
       "GT_25K_P9         15\n",
       "GT_28K_P10        16\n",
       "GT_28K_P8         16\n",
       "GT_28K_P6         16\n",
       "Length: 92, dtype: int64"
      ]
     },
     "execution_count": 6,
     "metadata": {},
     "output_type": "execute_result"
    }
   ],
   "source": [
    "school[school['INSTNM'].str.contains('Minnesota') == True]"
   ]
  },
  {
   "cell_type": "code",
   "execution_count": 7,
   "metadata": {},
   "outputs": [
    {
     "data": {
      "text/html": [
       "<div>\n",
       "<style scoped>\n",
       "    .dataframe tbody tr th:only-of-type {\n",
       "        vertical-align: middle;\n",
       "    }\n",
       "\n",
       "    .dataframe tbody tr th {\n",
       "        vertical-align: top;\n",
       "    }\n",
       "\n",
       "    .dataframe thead th {\n",
       "        text-align: right;\n",
       "    }\n",
       "</style>\n",
       "<table border=\"1\" class=\"dataframe\">\n",
       "  <thead>\n",
       "    <tr style=\"text-align: right;\">\n",
       "      <th></th>\n",
       "      <th>NAME OF DATA ELEMENT</th>\n",
       "      <th>dev-category</th>\n",
       "      <th>developer-friendly name</th>\n",
       "      <th>API data type</th>\n",
       "      <th>VARIABLE NAME</th>\n",
       "      <th>VALUE</th>\n",
       "      <th>LABEL</th>\n",
       "      <th>SOURCE</th>\n",
       "      <th>NOTES</th>\n",
       "    </tr>\n",
       "  </thead>\n",
       "  <tbody>\n",
       "    <tr>\n",
       "      <td>0</td>\n",
       "      <td>Unit ID for institution</td>\n",
       "      <td>root</td>\n",
       "      <td>id</td>\n",
       "      <td>integer</td>\n",
       "      <td>UNITID</td>\n",
       "      <td>NaN</td>\n",
       "      <td>NaN</td>\n",
       "      <td>IPEDS</td>\n",
       "      <td>NaN</td>\n",
       "    </tr>\n",
       "    <tr>\n",
       "      <td>1</td>\n",
       "      <td>8-digit OPE ID for institution</td>\n",
       "      <td>root</td>\n",
       "      <td>ope8_id</td>\n",
       "      <td>integer</td>\n",
       "      <td>OPEID</td>\n",
       "      <td>NaN</td>\n",
       "      <td>NaN</td>\n",
       "      <td>IPEDS</td>\n",
       "      <td>NaN</td>\n",
       "    </tr>\n",
       "    <tr>\n",
       "      <td>2</td>\n",
       "      <td>6-digit OPE ID for institution</td>\n",
       "      <td>root</td>\n",
       "      <td>ope6_id</td>\n",
       "      <td>integer</td>\n",
       "      <td>OPEID6</td>\n",
       "      <td>NaN</td>\n",
       "      <td>NaN</td>\n",
       "      <td>IPEDS</td>\n",
       "      <td>NaN</td>\n",
       "    </tr>\n",
       "    <tr>\n",
       "      <td>3</td>\n",
       "      <td>Institution name</td>\n",
       "      <td>school</td>\n",
       "      <td>name</td>\n",
       "      <td>autocomplete</td>\n",
       "      <td>INSTNM</td>\n",
       "      <td>NaN</td>\n",
       "      <td>NaN</td>\n",
       "      <td>IPEDS</td>\n",
       "      <td>NaN</td>\n",
       "    </tr>\n",
       "    <tr>\n",
       "      <td>4</td>\n",
       "      <td>City</td>\n",
       "      <td>school</td>\n",
       "      <td>city</td>\n",
       "      <td>autocomplete</td>\n",
       "      <td>CITY</td>\n",
       "      <td>NaN</td>\n",
       "      <td>NaN</td>\n",
       "      <td>IPEDS</td>\n",
       "      <td>NaN</td>\n",
       "    </tr>\n",
       "  </tbody>\n",
       "</table>\n",
       "</div>"
      ],
      "text/plain": [
       "             NAME OF DATA ELEMENT dev-category developer-friendly name  \\\n",
       "0         Unit ID for institution         root                      id   \n",
       "1  8-digit OPE ID for institution         root                 ope8_id   \n",
       "2  6-digit OPE ID for institution         root                 ope6_id   \n",
       "3                Institution name       school                    name   \n",
       "4                            City       school                    city   \n",
       "\n",
       "  API data type VARIABLE NAME  VALUE LABEL SOURCE NOTES  \n",
       "0       integer        UNITID    NaN   NaN  IPEDS   NaN  \n",
       "1       integer         OPEID    NaN   NaN  IPEDS   NaN  \n",
       "2       integer        OPEID6    NaN   NaN  IPEDS   NaN  \n",
       "3  autocomplete        INSTNM    NaN   NaN  IPEDS   NaN  \n",
       "4  autocomplete          CITY    NaN   NaN  IPEDS   NaN  "
      ]
     },
     "execution_count": 7,
     "metadata": {},
     "output_type": "execute_result"
    }
   ],
   "source": [
    "school_column_desc = pd.read_csv('CollegeScorecardDataDictionary_Fields.csv')\n",
    "school_column_desc.head()"
   ]
  },
  {
   "cell_type": "code",
   "execution_count": 8,
   "metadata": {},
   "outputs": [],
   "source": [
    "school_data_dictionary = pd.merge(pd.DataFrame(school.columns, columns = ['VARIABLE NAME']), school_column_desc, on = 'VARIABLE NAME')[['VARIABLE NAME','NAME OF DATA ELEMENT','API data type']]"
   ]
  },
  {
   "cell_type": "code",
   "execution_count": 9,
   "metadata": {},
   "outputs": [],
   "source": [
    "school_data_dictionary.to_csv('school_data_dictionary.csv')"
   ]
  },
  {
   "cell_type": "code",
   "execution_count": 10,
   "metadata": {},
   "outputs": [
    {
     "data": {
      "text/html": [
       "<div>\n",
       "<style scoped>\n",
       "    .dataframe tbody tr th:only-of-type {\n",
       "        vertical-align: middle;\n",
       "    }\n",
       "\n",
       "    .dataframe tbody tr th {\n",
       "        vertical-align: top;\n",
       "    }\n",
       "\n",
       "    .dataframe thead th {\n",
       "        text-align: right;\n",
       "    }\n",
       "</style>\n",
       "<table border=\"1\" class=\"dataframe\">\n",
       "  <thead>\n",
       "    <tr style=\"text-align: right;\">\n",
       "      <th></th>\n",
       "      <th>VARIABLE NAME</th>\n",
       "      <th>NAME OF DATA ELEMENT</th>\n",
       "      <th>API data type</th>\n",
       "    </tr>\n",
       "  </thead>\n",
       "  <tbody>\n",
       "    <tr>\n",
       "      <td>0</td>\n",
       "      <td>UNITID</td>\n",
       "      <td>Unit ID for institution</td>\n",
       "      <td>integer</td>\n",
       "    </tr>\n",
       "    <tr>\n",
       "      <td>1</td>\n",
       "      <td>OPEID</td>\n",
       "      <td>8-digit OPE ID for institution</td>\n",
       "      <td>integer</td>\n",
       "    </tr>\n",
       "    <tr>\n",
       "      <td>2</td>\n",
       "      <td>OPEID6</td>\n",
       "      <td>6-digit OPE ID for institution</td>\n",
       "      <td>integer</td>\n",
       "    </tr>\n",
       "    <tr>\n",
       "      <td>3</td>\n",
       "      <td>INSTNM</td>\n",
       "      <td>Institution name</td>\n",
       "      <td>autocomplete</td>\n",
       "    </tr>\n",
       "    <tr>\n",
       "      <td>4</td>\n",
       "      <td>COUNT_ED</td>\n",
       "      <td>Count of students in the earnings cohort</td>\n",
       "      <td>integer</td>\n",
       "    </tr>\n",
       "  </tbody>\n",
       "</table>\n",
       "</div>"
      ],
      "text/plain": [
       "  VARIABLE NAME                      NAME OF DATA ELEMENT API data type\n",
       "0        UNITID                   Unit ID for institution       integer\n",
       "1         OPEID            8-digit OPE ID for institution       integer\n",
       "2        OPEID6            6-digit OPE ID for institution       integer\n",
       "3        INSTNM                          Institution name  autocomplete\n",
       "4      COUNT_ED  Count of students in the earnings cohort       integer"
      ]
     },
     "execution_count": 10,
     "metadata": {},
     "output_type": "execute_result"
    }
   ],
   "source": [
    "school_data_dictionary.head()"
   ]
  },
  {
   "cell_type": "code",
   "execution_count": 11,
   "metadata": {},
   "outputs": [
    {
     "data": {
      "text/plain": [
       "5358"
      ]
     },
     "execution_count": 11,
     "metadata": {},
     "output_type": "execute_result"
    }
   ],
   "source": [
    "pd.to_numeric(school.MN_EARN_WNE_P6, errors ='coerce').dropna().count()"
   ]
  },
  {
   "cell_type": "code",
   "execution_count": 12,
   "metadata": {},
   "outputs": [
    {
     "data": {
      "text/plain": [
       "4781"
      ]
     },
     "execution_count": 12,
     "metadata": {},
     "output_type": "execute_result"
    }
   ],
   "source": [
    "pd.to_numeric(school.MN_EARN_WNE_P7,errors = 'coerce').dropna().count()"
   ]
  },
  {
   "cell_type": "code",
   "execution_count": 13,
   "metadata": {},
   "outputs": [
    {
     "data": {
      "text/plain": [
       "5235"
      ]
     },
     "execution_count": 13,
     "metadata": {},
     "output_type": "execute_result"
    }
   ],
   "source": [
    "pd.to_numeric(school.MN_EARN_WNE_P8, errors = 'coerce').dropna().count()"
   ]
  },
  {
   "cell_type": "code",
   "execution_count": 14,
   "metadata": {},
   "outputs": [
    {
     "data": {
      "text/plain": [
       "4624"
      ]
     },
     "execution_count": 14,
     "metadata": {},
     "output_type": "execute_result"
    }
   ],
   "source": [
    "pd.to_numeric(school.MN_EARN_WNE_P9, errors = 'coerce').dropna().count()"
   ]
  },
  {
   "cell_type": "code",
   "execution_count": 15,
   "metadata": {},
   "outputs": [
    {
     "data": {
      "text/plain": [
       "5175"
      ]
     },
     "execution_count": 15,
     "metadata": {},
     "output_type": "execute_result"
    }
   ],
   "source": [
    "pd.to_numeric(school.MN_EARN_WNE_P10, errors = 'coerce').dropna().count()"
   ]
  },
  {
   "cell_type": "code",
   "execution_count": 16,
   "metadata": {},
   "outputs": [
    {
     "data": {
      "text/html": [
       "<div>\n",
       "<style scoped>\n",
       "    .dataframe tbody tr th:only-of-type {\n",
       "        vertical-align: middle;\n",
       "    }\n",
       "\n",
       "    .dataframe tbody tr th {\n",
       "        vertical-align: top;\n",
       "    }\n",
       "\n",
       "    .dataframe thead th {\n",
       "        text-align: right;\n",
       "    }\n",
       "</style>\n",
       "<table border=\"1\" class=\"dataframe\">\n",
       "  <thead>\n",
       "    <tr style=\"text-align: right;\">\n",
       "      <th></th>\n",
       "      <th>UNITID</th>\n",
       "      <th>OPEID</th>\n",
       "      <th>OPEID6</th>\n",
       "      <th>INSTNM</th>\n",
       "      <th>COUNT_ED</th>\n",
       "      <th>AGEGE24</th>\n",
       "      <th>PCT_WHITE</th>\n",
       "      <th>PCT_BLACK</th>\n",
       "      <th>PCT_ASIAN</th>\n",
       "      <th>PCT_HISPANIC</th>\n",
       "      <th>...</th>\n",
       "      <th>SD_EARN_WNE_P8</th>\n",
       "      <th>GT_25K_P8</th>\n",
       "      <th>COUNT_NWNE_P9</th>\n",
       "      <th>COUNT_WNE_P9</th>\n",
       "      <th>MN_EARN_WNE_P9</th>\n",
       "      <th>SD_EARN_WNE_P9</th>\n",
       "      <th>GT_25K_P9</th>\n",
       "      <th>GT_28K_P10</th>\n",
       "      <th>GT_28K_P8</th>\n",
       "      <th>GT_28K_P6</th>\n",
       "    </tr>\n",
       "  </thead>\n",
       "  <tbody>\n",
       "    <tr>\n",
       "      <td>0</td>\n",
       "      <td>100654</td>\n",
       "      <td>100200</td>\n",
       "      <td>1002</td>\n",
       "      <td>Alabama A &amp; M University</td>\n",
       "      <td>NaN</td>\n",
       "      <td>0.07999999821186</td>\n",
       "      <td>46.8400001525878</td>\n",
       "      <td>47.9799995422363</td>\n",
       "      <td>1.48000001907348</td>\n",
       "      <td>3.78999996185302</td>\n",
       "      <td>...</td>\n",
       "      <td>20100</td>\n",
       "      <td>0.544</td>\n",
       "      <td>215</td>\n",
       "      <td>1480</td>\n",
       "      <td>33800</td>\n",
       "      <td>27500</td>\n",
       "      <td>0.58783781528472</td>\n",
       "      <td>0.567</td>\n",
       "      <td>0.483</td>\n",
       "      <td>0.431</td>\n",
       "    </tr>\n",
       "    <tr>\n",
       "      <td>1</td>\n",
       "      <td>100663</td>\n",
       "      <td>105200</td>\n",
       "      <td>1052</td>\n",
       "      <td>University of Alabama at Birmingham</td>\n",
       "      <td>NaN</td>\n",
       "      <td>0.25999999046325</td>\n",
       "      <td>69.0199966430664</td>\n",
       "      <td>27.7600002288818</td>\n",
       "      <td>1.10000002384185</td>\n",
       "      <td>2.02999997138977</td>\n",
       "      <td>...</td>\n",
       "      <td>36500</td>\n",
       "      <td>0.722</td>\n",
       "      <td>347</td>\n",
       "      <td>2592</td>\n",
       "      <td>44500</td>\n",
       "      <td>38600</td>\n",
       "      <td>0.73726850748062</td>\n",
       "      <td>0.726</td>\n",
       "      <td>0.686</td>\n",
       "      <td>0.631</td>\n",
       "    </tr>\n",
       "    <tr>\n",
       "      <td>2</td>\n",
       "      <td>100690</td>\n",
       "      <td>2503400</td>\n",
       "      <td>25034</td>\n",
       "      <td>Amridge University</td>\n",
       "      <td>NaN</td>\n",
       "      <td>0.82999998331069</td>\n",
       "      <td>70.8799972534179</td>\n",
       "      <td>22.5300006866455</td>\n",
       "      <td>1.28999996185302</td>\n",
       "      <td>6.94000005722046</td>\n",
       "      <td>...</td>\n",
       "      <td>33900</td>\n",
       "      <td>0.668</td>\n",
       "      <td>41</td>\n",
       "      <td>174</td>\n",
       "      <td>42400</td>\n",
       "      <td>30500</td>\n",
       "      <td>0.7356321811676</td>\n",
       "      <td>0.7</td>\n",
       "      <td>0.631</td>\n",
       "      <td>0.542</td>\n",
       "    </tr>\n",
       "    <tr>\n",
       "      <td>3</td>\n",
       "      <td>100706</td>\n",
       "      <td>105500</td>\n",
       "      <td>1055</td>\n",
       "      <td>University of Alabama in Huntsville</td>\n",
       "      <td>NaN</td>\n",
       "      <td>0.28999999165534</td>\n",
       "      <td>76.3799972534179</td>\n",
       "      <td>18.9799995422363</td>\n",
       "      <td>1.41999995708465</td>\n",
       "      <td>2.54999995231628</td>\n",
       "      <td>...</td>\n",
       "      <td>28400</td>\n",
       "      <td>0.73</td>\n",
       "      <td>152</td>\n",
       "      <td>1106</td>\n",
       "      <td>50200</td>\n",
       "      <td>37700</td>\n",
       "      <td>0.78119349479675</td>\n",
       "      <td>0.755</td>\n",
       "      <td>0.71</td>\n",
       "      <td>0.649</td>\n",
       "    </tr>\n",
       "    <tr>\n",
       "      <td>4</td>\n",
       "      <td>100724</td>\n",
       "      <td>100500</td>\n",
       "      <td>1005</td>\n",
       "      <td>Alabama State University</td>\n",
       "      <td>NaN</td>\n",
       "      <td>0.10999999940395</td>\n",
       "      <td>42.6899986267089</td>\n",
       "      <td>52.3199996948242</td>\n",
       "      <td>1.40999996662139</td>\n",
       "      <td>4.09000015258789</td>\n",
       "      <td>...</td>\n",
       "      <td>18000</td>\n",
       "      <td>0.468</td>\n",
       "      <td>297</td>\n",
       "      <td>1810</td>\n",
       "      <td>29400</td>\n",
       "      <td>20000</td>\n",
       "      <td>0.52983427047729</td>\n",
       "      <td>0.494</td>\n",
       "      <td>0.436</td>\n",
       "      <td>0.351</td>\n",
       "    </tr>\n",
       "  </tbody>\n",
       "</table>\n",
       "<p>5 rows × 92 columns</p>\n",
       "</div>"
      ],
      "text/plain": [
       "   UNITID    OPEID  OPEID6                               INSTNM  COUNT_ED  \\\n",
       "0  100654   100200    1002             Alabama A & M University       NaN   \n",
       "1  100663   105200    1052  University of Alabama at Birmingham       NaN   \n",
       "2  100690  2503400   25034                   Amridge University       NaN   \n",
       "3  100706   105500    1055  University of Alabama in Huntsville       NaN   \n",
       "4  100724   100500    1005             Alabama State University       NaN   \n",
       "\n",
       "            AGEGE24         PCT_WHITE         PCT_BLACK         PCT_ASIAN  \\\n",
       "0  0.07999999821186  46.8400001525878  47.9799995422363  1.48000001907348   \n",
       "1  0.25999999046325  69.0199966430664  27.7600002288818  1.10000002384185   \n",
       "2  0.82999998331069  70.8799972534179  22.5300006866455  1.28999996185302   \n",
       "3  0.28999999165534  76.3799972534179  18.9799995422363  1.41999995708465   \n",
       "4  0.10999999940395  42.6899986267089  52.3199996948242  1.40999996662139   \n",
       "\n",
       "       PCT_HISPANIC  ... SD_EARN_WNE_P8 GT_25K_P8 COUNT_NWNE_P9 COUNT_WNE_P9  \\\n",
       "0  3.78999996185302  ...          20100     0.544           215         1480   \n",
       "1  2.02999997138977  ...          36500     0.722           347         2592   \n",
       "2  6.94000005722046  ...          33900     0.668            41          174   \n",
       "3  2.54999995231628  ...          28400      0.73           152         1106   \n",
       "4  4.09000015258789  ...          18000     0.468           297         1810   \n",
       "\n",
       "  MN_EARN_WNE_P9 SD_EARN_WNE_P9         GT_25K_P9 GT_28K_P10 GT_28K_P8  \\\n",
       "0          33800          27500  0.58783781528472      0.567     0.483   \n",
       "1          44500          38600  0.73726850748062      0.726     0.686   \n",
       "2          42400          30500   0.7356321811676        0.7     0.631   \n",
       "3          50200          37700  0.78119349479675      0.755      0.71   \n",
       "4          29400          20000  0.52983427047729      0.494     0.436   \n",
       "\n",
       "  GT_28K_P6  \n",
       "0     0.431  \n",
       "1     0.631  \n",
       "2     0.542  \n",
       "3     0.649  \n",
       "4     0.351  \n",
       "\n",
       "[5 rows x 92 columns]"
      ]
     },
     "execution_count": 16,
     "metadata": {},
     "output_type": "execute_result"
    }
   ],
   "source": [
    "school.head()"
   ]
  },
  {
   "cell_type": "code",
   "execution_count": 17,
   "metadata": {},
   "outputs": [
    {
     "data": {
      "text/html": [
       "<div>\n",
       "<style scoped>\n",
       "    .dataframe tbody tr th:only-of-type {\n",
       "        vertical-align: middle;\n",
       "    }\n",
       "\n",
       "    .dataframe tbody tr th {\n",
       "        vertical-align: top;\n",
       "    }\n",
       "\n",
       "    .dataframe thead th {\n",
       "        text-align: right;\n",
       "    }\n",
       "</style>\n",
       "<table border=\"1\" class=\"dataframe\">\n",
       "  <thead>\n",
       "    <tr style=\"text-align: right;\">\n",
       "      <th></th>\n",
       "      <th>INSTNM</th>\n",
       "      <th>AGEGE24</th>\n",
       "      <th>MN_EARN_WNE_P6</th>\n",
       "    </tr>\n",
       "  </thead>\n",
       "  <tbody>\n",
       "    <tr>\n",
       "      <td>0</td>\n",
       "      <td>Alabama A &amp; M University</td>\n",
       "      <td>0.08</td>\n",
       "      <td>28400.0</td>\n",
       "    </tr>\n",
       "    <tr>\n",
       "      <td>1</td>\n",
       "      <td>University of Alabama at Birmingham</td>\n",
       "      <td>0.26</td>\n",
       "      <td>39400.0</td>\n",
       "    </tr>\n",
       "    <tr>\n",
       "      <td>2</td>\n",
       "      <td>Amridge University</td>\n",
       "      <td>0.83</td>\n",
       "      <td>35400.0</td>\n",
       "    </tr>\n",
       "    <tr>\n",
       "      <td>3</td>\n",
       "      <td>University of Alabama in Huntsville</td>\n",
       "      <td>0.29</td>\n",
       "      <td>40300.0</td>\n",
       "    </tr>\n",
       "    <tr>\n",
       "      <td>4</td>\n",
       "      <td>Alabama State University</td>\n",
       "      <td>0.11</td>\n",
       "      <td>24400.0</td>\n",
       "    </tr>\n",
       "    <tr>\n",
       "      <td>5</td>\n",
       "      <td>The University of Alabama</td>\n",
       "      <td>0.10</td>\n",
       "      <td>42400.0</td>\n",
       "    </tr>\n",
       "    <tr>\n",
       "      <td>6</td>\n",
       "      <td>Central Alabama Community College</td>\n",
       "      <td>0.42</td>\n",
       "      <td>25900.0</td>\n",
       "    </tr>\n",
       "    <tr>\n",
       "      <td>7</td>\n",
       "      <td>Athens State University</td>\n",
       "      <td>0.61</td>\n",
       "      <td>36200.0</td>\n",
       "    </tr>\n",
       "    <tr>\n",
       "      <td>8</td>\n",
       "      <td>Auburn University at Montgomery</td>\n",
       "      <td>0.32</td>\n",
       "      <td>32100.0</td>\n",
       "    </tr>\n",
       "    <tr>\n",
       "      <td>9</td>\n",
       "      <td>Auburn University</td>\n",
       "      <td>0.07</td>\n",
       "      <td>43100.0</td>\n",
       "    </tr>\n",
       "    <tr>\n",
       "      <td>10</td>\n",
       "      <td>Birmingham Southern College</td>\n",
       "      <td>0.02</td>\n",
       "      <td>36700.0</td>\n",
       "    </tr>\n",
       "    <tr>\n",
       "      <td>11</td>\n",
       "      <td>Chattahoochee Valley Community College</td>\n",
       "      <td>0.43</td>\n",
       "      <td>26000.0</td>\n",
       "    </tr>\n",
       "    <tr>\n",
       "      <td>12</td>\n",
       "      <td>Concordia College Alabama</td>\n",
       "      <td>0.18</td>\n",
       "      <td>22700.0</td>\n",
       "    </tr>\n",
       "    <tr>\n",
       "      <td>13</td>\n",
       "      <td>South University-Montgomery</td>\n",
       "      <td>0.73</td>\n",
       "      <td>32500.0</td>\n",
       "    </tr>\n",
       "    <tr>\n",
       "      <td>14</td>\n",
       "      <td>Enterprise State Community College</td>\n",
       "      <td>0.42</td>\n",
       "      <td>33700.0</td>\n",
       "    </tr>\n",
       "    <tr>\n",
       "      <td>15</td>\n",
       "      <td>Coastal Alabama Community College</td>\n",
       "      <td>0.33</td>\n",
       "      <td>26600.0</td>\n",
       "    </tr>\n",
       "    <tr>\n",
       "      <td>16</td>\n",
       "      <td>Faulkner University</td>\n",
       "      <td>0.62</td>\n",
       "      <td>33400.0</td>\n",
       "    </tr>\n",
       "    <tr>\n",
       "      <td>17</td>\n",
       "      <td>Gadsden State Community College</td>\n",
       "      <td>0.44</td>\n",
       "      <td>24300.0</td>\n",
       "    </tr>\n",
       "    <tr>\n",
       "      <td>19</td>\n",
       "      <td>George C Wallace Community College-Dothan</td>\n",
       "      <td>0.43</td>\n",
       "      <td>24900.0</td>\n",
       "    </tr>\n",
       "    <tr>\n",
       "      <td>20</td>\n",
       "      <td>George C Wallace State Community College-Hance...</td>\n",
       "      <td>0.44</td>\n",
       "      <td>29200.0</td>\n",
       "    </tr>\n",
       "  </tbody>\n",
       "</table>\n",
       "</div>"
      ],
      "text/plain": [
       "                                               INSTNM  AGEGE24  MN_EARN_WNE_P6\n",
       "0                            Alabama A & M University     0.08         28400.0\n",
       "1                 University of Alabama at Birmingham     0.26         39400.0\n",
       "2                                  Amridge University     0.83         35400.0\n",
       "3                 University of Alabama in Huntsville     0.29         40300.0\n",
       "4                            Alabama State University     0.11         24400.0\n",
       "5                           The University of Alabama     0.10         42400.0\n",
       "6                   Central Alabama Community College     0.42         25900.0\n",
       "7                             Athens State University     0.61         36200.0\n",
       "8                     Auburn University at Montgomery     0.32         32100.0\n",
       "9                                   Auburn University     0.07         43100.0\n",
       "10                        Birmingham Southern College     0.02         36700.0\n",
       "11             Chattahoochee Valley Community College     0.43         26000.0\n",
       "12                          Concordia College Alabama     0.18         22700.0\n",
       "13                        South University-Montgomery     0.73         32500.0\n",
       "14                 Enterprise State Community College     0.42         33700.0\n",
       "15                  Coastal Alabama Community College     0.33         26600.0\n",
       "16                                Faulkner University     0.62         33400.0\n",
       "17                    Gadsden State Community College     0.44         24300.0\n",
       "19          George C Wallace Community College-Dothan     0.43         24900.0\n",
       "20  George C Wallace State Community College-Hance...     0.44         29200.0"
      ]
     },
     "execution_count": 17,
     "metadata": {},
     "output_type": "execute_result"
    }
   ],
   "source": [
    "school.MN_EARN_WNE_P6 = pd.to_numeric(school.MN_EARN_WNE_P6, errors = 'coerce')\n",
    "school.AGEGE24 = pd.to_numeric(school.AGEGE24, errors = 'coerce')\n",
    "school_data = school[['INSTNM','AGEGE24','MN_EARN_WNE_P6']]\n",
    "school_data_nona = school_data.dropna()\n",
    "school_data_nona.head(20)"
   ]
  },
  {
   "cell_type": "code",
   "execution_count": 20,
   "metadata": {},
   "outputs": [
    {
     "ename": "AttributeError",
     "evalue": "'DataFrame' object has no attribute 'sort'",
     "output_type": "error",
     "traceback": [
      "\u001b[0;31m---------------------------------------------------------------------------\u001b[0m",
      "\u001b[0;31mAttributeError\u001b[0m                            Traceback (most recent call last)",
      "\u001b[0;32m<ipython-input-20-8a1cc6fb0db1>\u001b[0m in \u001b[0;36m<module>\u001b[0;34m\u001b[0m\n\u001b[0;32m----> 1\u001b[0;31m \u001b[0mschool_data_nona\u001b[0m\u001b[0;34m.\u001b[0m\u001b[0msort\u001b[0m\u001b[0;34m(\u001b[0m\u001b[0;34m)\u001b[0m\u001b[0;34m\u001b[0m\u001b[0;34m\u001b[0m\u001b[0m\n\u001b[0m",
      "\u001b[0;32m~/opt/anaconda3/lib/python3.7/site-packages/pandas/core/generic.py\u001b[0m in \u001b[0;36m__getattr__\u001b[0;34m(self, name)\u001b[0m\n\u001b[1;32m   5177\u001b[0m             \u001b[0;32mif\u001b[0m \u001b[0mself\u001b[0m\u001b[0;34m.\u001b[0m\u001b[0m_info_axis\u001b[0m\u001b[0;34m.\u001b[0m\u001b[0m_can_hold_identifiers_and_holds_name\u001b[0m\u001b[0;34m(\u001b[0m\u001b[0mname\u001b[0m\u001b[0;34m)\u001b[0m\u001b[0;34m:\u001b[0m\u001b[0;34m\u001b[0m\u001b[0;34m\u001b[0m\u001b[0m\n\u001b[1;32m   5178\u001b[0m                 \u001b[0;32mreturn\u001b[0m \u001b[0mself\u001b[0m\u001b[0;34m[\u001b[0m\u001b[0mname\u001b[0m\u001b[0;34m]\u001b[0m\u001b[0;34m\u001b[0m\u001b[0;34m\u001b[0m\u001b[0m\n\u001b[0;32m-> 5179\u001b[0;31m             \u001b[0;32mreturn\u001b[0m \u001b[0mobject\u001b[0m\u001b[0;34m.\u001b[0m\u001b[0m__getattribute__\u001b[0m\u001b[0;34m(\u001b[0m\u001b[0mself\u001b[0m\u001b[0;34m,\u001b[0m \u001b[0mname\u001b[0m\u001b[0;34m)\u001b[0m\u001b[0;34m\u001b[0m\u001b[0;34m\u001b[0m\u001b[0m\n\u001b[0m\u001b[1;32m   5180\u001b[0m \u001b[0;34m\u001b[0m\u001b[0m\n\u001b[1;32m   5181\u001b[0m     \u001b[0;32mdef\u001b[0m \u001b[0m__setattr__\u001b[0m\u001b[0;34m(\u001b[0m\u001b[0mself\u001b[0m\u001b[0;34m,\u001b[0m \u001b[0mname\u001b[0m\u001b[0;34m,\u001b[0m \u001b[0mvalue\u001b[0m\u001b[0;34m)\u001b[0m\u001b[0;34m:\u001b[0m\u001b[0;34m\u001b[0m\u001b[0;34m\u001b[0m\u001b[0m\n",
      "\u001b[0;31mAttributeError\u001b[0m: 'DataFrame' object has no attribute 'sort'"
     ]
    }
   ],
   "source": []
  },
  {
   "cell_type": "code",
   "execution_count": 21,
   "metadata": {},
   "outputs": [
    {
     "data": {
      "text/plain": [
       "32092.39299179419"
      ]
     },
     "execution_count": 21,
     "metadata": {},
     "output_type": "execute_result"
    }
   ],
   "source": [
    "school_data_nona.MN_EARN_WNE_P6.mean()"
   ]
  },
  {
   "cell_type": "code",
   "execution_count": 22,
   "metadata": {},
   "outputs": [
    {
     "data": {
      "text/plain": [
       "151500.0"
      ]
     },
     "execution_count": 22,
     "metadata": {},
     "output_type": "execute_result"
    }
   ],
   "source": [
    "school_data_nona.MN_EARN_WNE_P6.max()"
   ]
  },
  {
   "cell_type": "code",
   "execution_count": 23,
   "metadata": {},
   "outputs": [
    {
     "data": {
      "text/plain": [
       "11800.0"
      ]
     },
     "execution_count": 23,
     "metadata": {},
     "output_type": "execute_result"
    }
   ],
   "source": [
    "school_data_nona.MN_EARN_WNE_P6.min()"
   ]
  },
  {
   "cell_type": "code",
   "execution_count": 25,
   "metadata": {},
   "outputs": [
    {
     "data": {
      "text/plain": [
       "29600.0"
      ]
     },
     "execution_count": 25,
     "metadata": {},
     "output_type": "execute_result"
    }
   ],
   "source": [
    "mean_earn = school_data.MN_EARN_WNE_P6.mean(skipna=True)\n",
    "median_earn = school_data.MN_EARN_WNE_P6.median(skipna=True)\n",
    "median_earn"
   ]
  },
  {
   "cell_type": "code",
   "execution_count": 26,
   "metadata": {},
   "outputs": [
    {
     "data": {
      "text/plain": [
       "31112.275028121483"
      ]
     },
     "execution_count": 26,
     "metadata": {},
     "output_type": "execute_result"
    }
   ],
   "source": [
    "school_data.MN_EARN_WNE_P6.fillna(school_data.MN_EARN_WNE_P6.median(skipna=True)).mean()"
   ]
  },
  {
   "cell_type": "code",
   "execution_count": 27,
   "metadata": {},
   "outputs": [
    {
     "data": {
      "text/plain": [
       "<matplotlib.axes._subplots.AxesSubplot at 0x12304d110>"
      ]
     },
     "execution_count": 27,
     "metadata": {},
     "output_type": "execute_result"
    },
    {
     "data": {
      "image/png": "[encoded data removed]",
      "text/plain": [
       "<Figure size 432x288 with 1 Axes>"
      ]
     },
     "metadata": {
      "needs_background": "light"
     },
     "output_type": "display_data"
    }
   ],
   "source": [
    "school_data_nona.MN_EARN_WNE_P6.plot.box()"
   ]
  },
  {
   "cell_type": "code",
   "execution_count": 28,
   "metadata": {},
   "outputs": [
    {
     "data": {
      "text/plain": [
       "<matplotlib.axes._subplots.AxesSubplot at 0x123d77e10>"
      ]
     },
     "execution_count": 28,
     "metadata": {},
     "output_type": "execute_result"
    },
    {
     "data": {
      "image/png": "[encoded data removed]",
      "text/plain": [
       "<Figure size 432x288 with 1 Axes>"
      ]
     },
     "metadata": {
      "needs_background": "light"
     },
     "output_type": "display_data"
    }
   ],
   "source": [
    "school_data_nona.AGEGE24.plot.box()"
   ]
  },
  {
   "cell_type": "code",
   "execution_count": 29,
   "metadata": {},
   "outputs": [
    {
     "data": {
      "text/plain": [
       "<matplotlib.axes._subplots.AxesSubplot at 0x123ec9c10>"
      ]
     },
     "execution_count": 29,
     "metadata": {},
     "output_type": "execute_result"
    },
    {
     "data": {
      "image/png": "[encoded data removed]",
      "text/plain": [
       "<Figure size 432x288 with 1 Axes>"
      ]
     },
     "metadata": {
      "needs_background": "light"
     },
     "output_type": "display_data"
    }
   ],
   "source": [
    "school_data_nona.plot.scatter(x='AGEGE24',y='MN_EARN_WNE_P6')"
   ]
  },
  {
   "cell_type": "code",
   "execution_count": 30,
   "metadata": {},
   "outputs": [
    {
     "data": {
      "text/plain": [
       "48"
      ]
     },
     "execution_count": 30,
     "metadata": {},
     "output_type": "execute_result"
    }
   ],
   "source": [
    "school_data_nona.AGEGE24[school_data_nona.AGEGE24 == 0.0].index.size"
   ]
  },
  {
   "cell_type": "code",
   "execution_count": 31,
   "metadata": {},
   "outputs": [],
   "source": [
    "mask = np.random.rand(len(school_data_nona)) < 0.7\n",
    "train = school_data_nona[mask]\n",
    "test = school_data_nona[~mask]"
   ]
  },
  {
   "cell_type": "code",
   "execution_count": 32,
   "metadata": {},
   "outputs": [],
   "source": [
    "from sklearn.linear_model import LinearRegression\n",
    "x_train = train[['AGEGE24']]\n",
    "y_train = train['MN_EARN_WNE_P6']\n",
    "model = LinearRegression().fit(x_train, y_train)"
   ]
  },
  {
   "cell_type": "code",
   "execution_count": 34,
   "metadata": {},
   "outputs": [
    {
     "data": {
      "text/plain": [
       "0.04395598569754078"
      ]
     },
     "execution_count": 34,
     "metadata": {},
     "output_type": "execute_result"
    }
   ],
   "source": [
    "x_test = test[['AGEGE24']]\n",
    "y_test = test['MN_EARN_WNE_P6']\n",
    "predicted = model.predict(x_test)\n",
    "model.score(x_test, y_test)"
   ]
  },
  {
   "cell_type": "code",
   "execution_count": 35,
   "metadata": {},
   "outputs": [
    {
     "data": {
      "text/plain": [
       "[<matplotlib.lines.Line2D at 0x125b40750>]"
      ]
     },
     "execution_count": 35,
     "metadata": {},
     "output_type": "execute_result"
    },
    {
     "data": {
      "image/png": "[encoded data removed]",
      "text/plain": [
       "<Figure size 432x288 with 1 Axes>"
      ]
     },
     "metadata": {
      "needs_background": "light"
     },
     "output_type": "display_data"
    }
   ],
   "source": [
    "from matplotlib import pyplot as plt\n",
    "plt.scatter(test[['AGEGE24']], test['MN_EARN_WNE_P6'])\n",
    "plt.plot(test[['AGEGE24']], predicted, color='red')"
   ]
  },
  {
   "cell_type": "code",
   "execution_count": null,
   "metadata": {},
   "outputs": [],
   "source": []
  }
 ],
 "metadata": {
  "kernelspec": {
   "display_name": "Python 3",
   "language": "python",
   "name": "python3"
  },
  "language_info": {
   "codemirror_mode": {
    "name": "ipython",
    "version": 3
   },
   "file_extension": ".py",
   "mimetype": "text/x-python",
   "name": "python",
   "nbconvert_exporter": "python",
   "pygments_lexer": "ipython3",
   "version": "3.7.4"
  }
 },
 "nbformat": 4,
 "nbformat_minor": 2
}
